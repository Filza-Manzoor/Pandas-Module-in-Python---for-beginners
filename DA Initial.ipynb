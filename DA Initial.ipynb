{
 "cells": [
  {
   "cell_type": "markdown",
   "id": "c06bddf7",
   "metadata": {},
   "source": [
    "# Python Applications:\n",
    "#### Web scraping, Data Science, Data Analysis and testing"
   ]
  },
  {
   "cell_type": "markdown",
   "id": "e81c19db",
   "metadata": {},
   "source": [
    "Some of the Python Modules to work with Data:"
   ]
  },
  {
   "cell_type": "code",
   "execution_count": 1,
   "id": "1687c4c7",
   "metadata": {},
   "outputs": [],
   "source": [
    "import statsmodels as sm\n",
    "import seaborn as sns\n",
    "import pandas as pd\n",
    "import matplotlib.pyplot as plt\n",
    "from matplotlib import style"
   ]
  },
  {
   "cell_type": "code",
   "execution_count": 2,
   "id": "b58aa6c8",
   "metadata": {},
   "outputs": [
    {
     "name": "stdout",
     "output_type": "stream",
     "text": [
      "   Week 1  Visitors  Bounce_rate\n",
      "0       1      1000           40\n",
      "1       2      2000           30\n",
      "2       3       900            1\n",
      "3       4       400           20\n",
      "4       5      3000           25\n",
      "\n",
      "    Week 2  Visitors  Bounce_rate\n",
      "0       6      1000           40\n",
      "1       7      2000           30\n",
      "2       8       900            1\n",
      "3       9       400           20\n",
      "4      10      3000           25\n"
     ]
    }
   ],
   "source": [
    "Web_viz1={\"Week 1\":[1,2,3,4,5], \"Visitors\":[1000,2000,900,400,3000], \"Bounce_rate\":[40,30,1,20,25]}\n",
    "Web_viz2={\"Week 2\":[6,7,8,9,10], \"Visitors\":[1000,2000,900,400,3000], \"Bounce_rate\":[40,30,1,20,25]}\n",
    "df1 = pd.DataFrame(Web_viz1)\n",
    "print(df1)\n",
    "df2 = pd.DataFrame(Web_viz2)\n",
    "print(\"\\n\", df2)"
   ]
  },
  {
   "cell_type": "code",
   "execution_count": 3,
   "id": "38679255",
   "metadata": {
    "scrolled": true
   },
   "outputs": [
    {
     "name": "stdout",
     "output_type": "stream",
     "text": [
      "   Week 1  Visitors  Bounce_rate\n",
      "0       1      1000           40\n",
      "1       2      2000           30\n",
      "2       3       900            1\n",
      "   Week 2  Visitors  Bounce_rate\n",
      "2       8       900            1\n",
      "3       9       400           20\n",
      "4      10      3000           25\n"
     ]
    }
   ],
   "source": [
    "print(df1.head(3))\n",
    "print(df2.tail(3))"
   ]
  },
  {
   "cell_type": "code",
   "execution_count": 26,
   "id": "f943ea3a",
   "metadata": {
    "scrolled": true
   },
   "outputs": [
    {
     "name": "stdout",
     "output_type": "stream",
     "text": [
      "   Week 1  Customers  Bounce_rate  Week 2  Visitors\n",
      "0       1       1000           40       6      1000\n",
      "1       2       2000           30       7      2000\n",
      "2       3        900            1       8       900\n",
      "3       4        400           20       9       400\n",
      "4       5       3000           25      10      3000\n"
     ]
    }
   ],
   "source": [
    "#on is short for only, only is used here to make one column \"Visiotrs\" commonin both datasets. Rest it takes as individual datas\n",
    "merged =pd.merge(df1,df2, on = \"Bounce_rate\")\n",
    "print(merged)"
   ]
  },
  {
   "cell_type": "code",
   "execution_count": 5,
   "id": "775fb849",
   "metadata": {},
   "outputs": [
    {
     "name": "stdout",
     "output_type": "stream",
     "text": [
      "   Week 1  Visitors w1  Week 2  Visitors w2\n",
      "0       1         1000       6         1000\n",
      "1       2         2000       7         2000\n",
      "2       3          900       8          900\n",
      "3       4          400       9          400\n",
      "4       5         3000      10         3000\n"
     ]
    }
   ],
   "source": [
    "#join sould not have common attribute names for that we need to change the atributes name to unique\n",
    "Web_viz11={\"Week 1\":[1,2,3,4,5], \"Visitors w1\":[1000,2000,900,400,3000]}\n",
    "Web_viz12={\"Week 2\":[6,7,8,9,10], \"Visitors w2\":[1000,2000,900,400,3000]}\n",
    "df11 = pd.DataFrame(Web_viz11)\n",
    "df12 = pd.DataFrame(Web_viz12)\n",
    "joined =df11.join(df12)\n",
    "print(joined)"
   ]
  },
  {
   "cell_type": "code",
   "execution_count": 7,
   "id": "f15cc728",
   "metadata": {},
   "outputs": [
    {
     "data": {
      "text/html": [
       "<div>\n",
       "<style scoped>\n",
       "    .dataframe tbody tr th:only-of-type {\n",
       "        vertical-align: middle;\n",
       "    }\n",
       "\n",
       "    .dataframe tbody tr th {\n",
       "        vertical-align: top;\n",
       "    }\n",
       "\n",
       "    .dataframe thead th {\n",
       "        text-align: right;\n",
       "    }\n",
       "</style>\n",
       "<table border=\"1\" class=\"dataframe\">\n",
       "  <thead>\n",
       "    <tr style=\"text-align: right;\">\n",
       "      <th></th>\n",
       "      <th>Week 1</th>\n",
       "      <th>Visitors</th>\n",
       "      <th>Bounce_rate</th>\n",
       "    </tr>\n",
       "  </thead>\n",
       "  <tbody>\n",
       "    <tr>\n",
       "      <th>2</th>\n",
       "      <td>3</td>\n",
       "      <td>900</td>\n",
       "      <td>1</td>\n",
       "    </tr>\n",
       "    <tr>\n",
       "      <th>3</th>\n",
       "      <td>4</td>\n",
       "      <td>400</td>\n",
       "      <td>20</td>\n",
       "    </tr>\n",
       "    <tr>\n",
       "      <th>4</th>\n",
       "      <td>5</td>\n",
       "      <td>3000</td>\n",
       "      <td>25</td>\n",
       "    </tr>\n",
       "  </tbody>\n",
       "</table>\n",
       "</div>"
      ],
      "text/plain": [
       "   Week 1  Visitors  Bounce_rate\n",
       "2       3       900            1\n",
       "3       4       400           20\n",
       "4       5      3000           25"
      ]
     },
     "execution_count": 7,
     "metadata": {},
     "output_type": "execute_result"
    }
   ],
   "source": [
    "df1.tail(3)"
   ]
  },
  {
   "cell_type": "code",
   "execution_count": 9,
   "id": "925610f6",
   "metadata": {},
   "outputs": [
    {
     "data": {
      "text/plain": [
       "Week 1           1\n",
       "Visitors       400\n",
       "Bounce_rate      1\n",
       "dtype: int64"
      ]
     },
     "execution_count": 9,
     "metadata": {},
     "output_type": "execute_result"
    }
   ],
   "source": [
    "df1.min()"
   ]
  },
  {
   "cell_type": "code",
   "execution_count": 10,
   "id": "b54e9eef",
   "metadata": {},
   "outputs": [
    {
     "data": {
      "text/plain": [
       "Week 1            5\n",
       "Visitors       3000\n",
       "Bounce_rate      40\n",
       "dtype: int64"
      ]
     },
     "execution_count": 10,
     "metadata": {},
     "output_type": "execute_result"
    }
   ],
   "source": [
    "df1.max()"
   ]
  },
  {
   "cell_type": "code",
   "execution_count": 11,
   "id": "285c61df",
   "metadata": {},
   "outputs": [
    {
     "data": {
      "text/html": [
       "<div>\n",
       "<style scoped>\n",
       "    .dataframe tbody tr th:only-of-type {\n",
       "        vertical-align: middle;\n",
       "    }\n",
       "\n",
       "    .dataframe tbody tr th {\n",
       "        vertical-align: top;\n",
       "    }\n",
       "\n",
       "    .dataframe thead th {\n",
       "        text-align: right;\n",
       "    }\n",
       "</style>\n",
       "<table border=\"1\" class=\"dataframe\">\n",
       "  <thead>\n",
       "    <tr style=\"text-align: right;\">\n",
       "      <th></th>\n",
       "      <th>Visitors w1</th>\n",
       "    </tr>\n",
       "    <tr>\n",
       "      <th>Week 1</th>\n",
       "      <th></th>\n",
       "    </tr>\n",
       "  </thead>\n",
       "  <tbody>\n",
       "    <tr>\n",
       "      <th>1</th>\n",
       "      <td>1000</td>\n",
       "    </tr>\n",
       "    <tr>\n",
       "      <th>2</th>\n",
       "      <td>2000</td>\n",
       "    </tr>\n",
       "    <tr>\n",
       "      <th>3</th>\n",
       "      <td>900</td>\n",
       "    </tr>\n",
       "    <tr>\n",
       "      <th>4</th>\n",
       "      <td>400</td>\n",
       "    </tr>\n",
       "    <tr>\n",
       "      <th>5</th>\n",
       "      <td>3000</td>\n",
       "    </tr>\n",
       "  </tbody>\n",
       "</table>\n",
       "</div>"
      ],
      "text/plain": [
       "        Visitors w1\n",
       "Week 1             \n",
       "1              1000\n",
       "2              2000\n",
       "3               900\n",
       "4               400\n",
       "5              3000"
      ]
     },
     "execution_count": 11,
     "metadata": {},
     "output_type": "execute_result"
    }
   ],
   "source": [
    "#to change the index column with other column name\n",
    "df11.set_index(\"Week 1\", inplace=True)\n",
    "df11"
   ]
  },
  {
   "cell_type": "code",
   "execution_count": 12,
   "id": "d5334fd5",
   "metadata": {},
   "outputs": [
    {
     "data": {
      "text/html": [
       "<div>\n",
       "<style scoped>\n",
       "    .dataframe tbody tr th:only-of-type {\n",
       "        vertical-align: middle;\n",
       "    }\n",
       "\n",
       "    .dataframe tbody tr th {\n",
       "        vertical-align: top;\n",
       "    }\n",
       "\n",
       "    .dataframe thead th {\n",
       "        text-align: right;\n",
       "    }\n",
       "</style>\n",
       "<table border=\"1\" class=\"dataframe\">\n",
       "  <thead>\n",
       "    <tr style=\"text-align: right;\">\n",
       "      <th></th>\n",
       "      <th>Week 1</th>\n",
       "      <th>Customers</th>\n",
       "      <th>Bounce_rate</th>\n",
       "    </tr>\n",
       "  </thead>\n",
       "  <tbody>\n",
       "    <tr>\n",
       "      <th>0</th>\n",
       "      <td>1</td>\n",
       "      <td>1000</td>\n",
       "      <td>40</td>\n",
       "    </tr>\n",
       "    <tr>\n",
       "      <th>1</th>\n",
       "      <td>2</td>\n",
       "      <td>2000</td>\n",
       "      <td>30</td>\n",
       "    </tr>\n",
       "    <tr>\n",
       "      <th>2</th>\n",
       "      <td>3</td>\n",
       "      <td>900</td>\n",
       "      <td>1</td>\n",
       "    </tr>\n",
       "    <tr>\n",
       "      <th>3</th>\n",
       "      <td>4</td>\n",
       "      <td>400</td>\n",
       "      <td>20</td>\n",
       "    </tr>\n",
       "    <tr>\n",
       "      <th>4</th>\n",
       "      <td>5</td>\n",
       "      <td>3000</td>\n",
       "      <td>25</td>\n",
       "    </tr>\n",
       "  </tbody>\n",
       "</table>\n",
       "</div>"
      ],
      "text/plain": [
       "   Week 1  Customers  Bounce_rate\n",
       "0       1       1000           40\n",
       "1       2       2000           30\n",
       "2       3        900            1\n",
       "3       4        400           20\n",
       "4       5       3000           25"
      ]
     },
     "execution_count": 12,
     "metadata": {},
     "output_type": "execute_result"
    }
   ],
   "source": [
    "#changing any other column name\n",
    "df1 = df1.rename(columns ={\"Visitors\" : \"Customers\"})\n",
    "df1"
   ]
  },
  {
   "cell_type": "code",
   "execution_count": 13,
   "id": "13c1f7af",
   "metadata": {
    "scrolled": true
   },
   "outputs": [
    {
     "data": {
      "image/png": "[encoded data removed]",
      "text/plain": [
       "<Figure size 432x288 with 1 Axes>"
      ]
     },
     "metadata": {},
     "output_type": "display_data"
    }
   ],
   "source": [
    "#Visualizing data\n",
    "plt.style.use(\"fivethirtyeight\")\n",
    "df1.plot()\n",
    "plt.show()"
   ]
  },
  {
   "cell_type": "code",
   "execution_count": 14,
   "id": "86b5ae8b",
   "metadata": {},
   "outputs": [
    {
     "data": {
      "text/plain": [
       "['Solarize_Light2',\n",
       " '_classic_test_patch',\n",
       " 'bmh',\n",
       " 'classic',\n",
       " 'dark_background',\n",
       " 'fast',\n",
       " 'fivethirtyeight',\n",
       " 'ggplot',\n",
       " 'grayscale',\n",
       " 'seaborn',\n",
       " 'seaborn-bright',\n",
       " 'seaborn-colorblind',\n",
       " 'seaborn-dark',\n",
       " 'seaborn-dark-palette',\n",
       " 'seaborn-darkgrid',\n",
       " 'seaborn-deep',\n",
       " 'seaborn-muted',\n",
       " 'seaborn-notebook',\n",
       " 'seaborn-paper',\n",
       " 'seaborn-pastel',\n",
       " 'seaborn-poster',\n",
       " 'seaborn-talk',\n",
       " 'seaborn-ticks',\n",
       " 'seaborn-white',\n",
       " 'seaborn-whitegrid',\n",
       " 'tableau-colorblind10']"
      ]
     },
     "execution_count": 14,
     "metadata": {},
     "output_type": "execute_result"
    }
   ],
   "source": [
    "plt.style.available"
   ]
  },
  {
   "cell_type": "code",
   "execution_count": 15,
   "id": "bf57dd35",
   "metadata": {},
   "outputs": [
    {
     "name": "stdout",
     "output_type": "stream",
     "text": [
      "           START_DATE*         END_DATE* CATEGORY*            START*  \\\n",
      "0       1/1/2016 21:11    1/1/2016 21:17  Business       Fort Pierce   \n",
      "1        1/2/2016 1:25     1/2/2016 1:37  Business       Fort Pierce   \n",
      "2       1/2/2016 20:25    1/2/2016 20:38  Business       Fort Pierce   \n",
      "3       1/5/2016 17:31    1/5/2016 17:45  Business       Fort Pierce   \n",
      "4       1/6/2016 14:42    1/6/2016 15:49  Business       Fort Pierce   \n",
      "...                ...               ...       ...               ...   \n",
      "1151  12/31/2016 13:24  12/31/2016 13:42  Business           Kar?chi   \n",
      "1152  12/31/2016 15:03  12/31/2016 15:38  Business  Unknown Location   \n",
      "1153  12/31/2016 21:32  12/31/2016 21:50  Business        Katunayake   \n",
      "1154  12/31/2016 22:08  12/31/2016 23:51  Business           Gampaha   \n",
      "1155            Totals               NaN       NaN               NaN   \n",
      "\n",
      "                 STOP*   MILES*         PURPOSE*  \n",
      "0          Fort Pierce      5.1   Meal/Entertain  \n",
      "1          Fort Pierce      5.0              NaN  \n",
      "2          Fort Pierce      4.8  Errand/Supplies  \n",
      "3          Fort Pierce      4.7          Meeting  \n",
      "4      West Palm Beach     63.7   Customer Visit  \n",
      "...                ...      ...              ...  \n",
      "1151  Unknown Location      3.9   Temporary Site  \n",
      "1152  Unknown Location     16.2          Meeting  \n",
      "1153           Gampaha      6.4   Temporary Site  \n",
      "1154         Ilukwatta     48.2   Temporary Site  \n",
      "1155               NaN  12204.7              NaN  \n",
      "\n",
      "[1156 rows x 7 columns]\n"
     ]
    }
   ],
   "source": [
    "#Data munging is a term to change the formats of files. \n",
    "data_file1= pd.read_csv(r\"C:\\Users\\HP\\Documents\\My Uber Drives - 2016.csv\")\n",
    "data_file1.to_html('uber rides.html')\n",
    "print(data_file1)"
   ]
  },
  {
   "cell_type": "code",
   "execution_count": 16,
   "id": "dd4ace71",
   "metadata": {},
   "outputs": [
    {
     "data": {
      "image/png": "[encoded data removed]",
      "text/plain": [
       "<Figure size 432x288 with 1 Axes>"
      ]
     },
     "metadata": {},
     "output_type": "display_data"
    }
   ],
   "source": [
    "data_file1= pd.read_csv(r\"C:\\Users\\HP\\Documents\\My Uber Drives - 2016.csv\")\n",
    "dataf=data_file1.head(5)\n",
    "dataf=data_file1.set_index([\"START_DATE*\"])\n",
    "#db=dataf.diff(axis=1)\n",
    "dataf.plot(kind='bar')\n",
    "plt.show()"
   ]
  },
  {
   "cell_type": "code",
   "execution_count": 17,
   "id": "93cf8551",
   "metadata": {},
   "outputs": [],
   "source": [
    "from statistics import mean, median, mode, variance"
   ]
  },
  {
   "cell_type": "code",
   "execution_count": 18,
   "id": "f5eb8bcc",
   "metadata": {},
   "outputs": [
    {
     "name": "stdout",
     "output_type": "stream",
     "text": [
      "5.2727272727272725\n"
     ]
    }
   ],
   "source": [
    "print(mean([1,2,3,4,5,6,6,7,8,8,8]))"
   ]
  },
  {
   "cell_type": "code",
   "execution_count": 19,
   "id": "c592d64a",
   "metadata": {},
   "outputs": [
    {
     "name": "stdout",
     "output_type": "stream",
     "text": [
      "8\n"
     ]
    }
   ],
   "source": [
    "print(mode([1,2,3,4,5,6,6,7,8,8,8]))"
   ]
  },
  {
   "cell_type": "code",
   "execution_count": 20,
   "id": "a69172c4",
   "metadata": {},
   "outputs": [
    {
     "name": "stdout",
     "output_type": "stream",
     "text": [
      "6\n"
     ]
    }
   ],
   "source": [
    "print(median([1,2,3,4,5,6,6,7,8,8,8]))"
   ]
  },
  {
   "cell_type": "code",
   "execution_count": 21,
   "id": "c928b690",
   "metadata": {},
   "outputs": [
    {
     "name": "stdout",
     "output_type": "stream",
     "text": [
      "6.218181818181818\n"
     ]
    }
   ],
   "source": [
    "print(variance([1,2,3,4,5,6,6,7,8,8,8]))"
   ]
  },
  {
   "cell_type": "code",
   "execution_count": null,
   "id": "8406189d",
   "metadata": {},
   "outputs": [],
   "source": []
  }
 ],
 "metadata": {
  "kernelspec": {
   "display_name": "Python 3",
   "language": "python",
   "name": "python3"
  },
  "language_info": {
   "codemirror_mode": {
    "name": "ipython",
    "version": 3
   },
   "file_extension": ".py",
   "mimetype": "text/x-python",
   "name": "python",
   "nbconvert_exporter": "python",
   "pygments_lexer": "ipython3",
   "version": "3.8.8"
  }
 },
 "nbformat": 4,
 "nbformat_minor": 5
}
